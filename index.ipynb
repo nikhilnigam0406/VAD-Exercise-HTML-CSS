{
  "nbformat": 4,
  "nbformat_minor": 0,
  "metadata": {
    "colab": {
      "provenance": [],
      "authorship_tag": "ABX9TyPCw4DJk0X0GrM6+iUjLphM",
      "include_colab_link": true
    },
    "kernelspec": {
      "name": "python3",
      "display_name": "Python 3"
    },
    "language_info": {
      "name": "python"
    }
  },
  "cells": [
    {
      "cell_type": "markdown",
      "metadata": {
        "id": "view-in-github",
        "colab_type": "text"
      },
      "source": [
        "<a href=\"https://colab.research.google.com/github/nikhilnigam0406/Basic-Html-Css-Codes/blob/main/index.ipynb\" target=\"_parent\"><img src=\"https://colab.research.google.com/assets/colab-badge.svg\" alt=\"Open In Colab\"/></a>"
      ]
    },
    {
      "cell_type": "markdown",
      "source": [
        "# Basic Python\n",
        "# Introduction\n"
      ],
      "metadata": {
        "id": "LzQJGv645bFJ"
      }
    },
    {
      "cell_type": "code",
      "source": [
        "print(\"Nikhil\" + \" Nigam\")\n",
        "a= 10; b =25\n",
        "c=a+b\n",
        "d=a*b\n",
        "e=a/b\n",
        "print(c)\n",
        "print(d)\n",
        "print(e)\n",
        "print(\"Kiet\",\"Group\",\"of\",\"institution\\nGhaziabad\")\n",
        "# Sepeartor\n",
        "print(\"MCA\",\"MBA\",\"BTECH\",\"MTECH\",\"BPHRAMA\",\"MPHARMA\", sep='/')\n",
        "print(\"first\",\"second\",\"gmail\",\".\",\"com\",sep='@')\n",
        "print(\"hello\",end=\" \")\n",
        "print(\"world\")\n",
        "print(\"KIET\",end=\" mca \")\n",
        "print(\"Dept\")\n",
        "# multiple value\n",
        "print(\"Technocrates\\n\"*10)\n",
        "\n"
      ],
      "metadata": {
        "colab": {
          "base_uri": "https://localhost:8080/"
        },
        "id": "tGOczKb654Eo",
        "outputId": "dca41a46-7f5d-4237-b1b5-fc1542b0fe4a"
      },
      "execution_count": 18,
      "outputs": [
        {
          "output_type": "stream",
          "name": "stdout",
          "text": [
            "Nikhil Nigam\n",
            "35\n",
            "250\n",
            "0.4\n",
            "Kiet Group of institution\n",
            "Ghaziabad\n",
            "MCA/MBA/BTECH/MTECH/BPHRAMA/MPHARMA\n",
            "first@second@gmail@.@com\n",
            "hello world\n",
            "KIET mca Dept\n",
            "Technocrates\n",
            "Technocrates\n",
            "Technocrates\n",
            "Technocrates\n",
            "Technocrates\n",
            "Technocrates\n",
            "Technocrates\n",
            "Technocrates\n",
            "Technocrates\n",
            "Technocrates\n",
            "\n"
          ]
        }
      ]
    },
    {
      "cell_type": "markdown",
      "source": [
        "# **Data Type**"
      ],
      "metadata": {
        "id": "hD6eQEnJ59I9"
      }
    },
    {
      "cell_type": "code",
      "source": [
        "# Int\n",
        "print(4)\n",
        "print(type(42))\n",
        "#float\n",
        "print(.1)\n",
        "print(type(0.1))\n",
        "print(type(1.15e84))\n",
        "print(type(5+7j))\n",
        "#string\n",
        "print('DELHI')\n",
        "print(\"Delhi\")\n",
        "print(type('''Hello Eveyone\n",
        "Today is the first day of the class\n",
        "'''))\n",
        "#list->different values store container, they are mutable data means ordered list. Create with square Bracket\n",
        "a = ['Cat ', 'Day ', 54, \" list\"]\n",
        "print(a)\n",
        "print(a[2])\n",
        "print(type(a))\n",
        "#Tuple->Immutable data store means no change and rest all features list.Create with small parenthesis.\n",
        "c = ('5',8,547.5)\n",
        "print(type(c))\n",
        "# Doubt\n",
        "# c[0] = (\"1\")\n",
        "# print(type(c))\n"
      ],
      "metadata": {
        "colab": {
          "base_uri": "https://localhost:8080/",
          "height": 455
        },
        "id": "Ld3iqCS36J-O",
        "outputId": "093abf62-4998-4950-8a02-2c81c08e2f4f"
      },
      "execution_count": 34,
      "outputs": [
        {
          "output_type": "stream",
          "name": "stdout",
          "text": [
            "4\n",
            "<class 'int'>\n",
            "0.1\n",
            "<class 'float'>\n",
            "<class 'float'>\n",
            "<class 'complex'>\n",
            "DELHI\n",
            "Delhi\n",
            "<class 'str'>\n",
            "['Cat ', 'Day ', 54, ' list']\n",
            "54\n",
            "<class 'list'>\n",
            "<class 'tuple'>\n"
          ]
        },
        {
          "output_type": "error",
          "ename": "TypeError",
          "evalue": "ignored",
          "traceback": [
            "\u001b[0;31m---------------------------------------------------------------------------\u001b[0m",
            "\u001b[0;31mTypeError\u001b[0m                                 Traceback (most recent call last)",
            "\u001b[0;32m<ipython-input-34-5b7c70d9a884>\u001b[0m in \u001b[0;36m<cell line: 23>\u001b[0;34m()\u001b[0m\n\u001b[1;32m     21\u001b[0m \u001b[0mc\u001b[0m \u001b[0;34m=\u001b[0m \u001b[0;34m(\u001b[0m\u001b[0;34m'5'\u001b[0m\u001b[0;34m,\u001b[0m\u001b[0;36m8\u001b[0m\u001b[0;34m,\u001b[0m\u001b[0;36m547.5\u001b[0m\u001b[0;34m)\u001b[0m\u001b[0;34m\u001b[0m\u001b[0;34m\u001b[0m\u001b[0m\n\u001b[1;32m     22\u001b[0m \u001b[0mprint\u001b[0m\u001b[0;34m(\u001b[0m\u001b[0mtype\u001b[0m\u001b[0;34m(\u001b[0m\u001b[0mc\u001b[0m\u001b[0;34m)\u001b[0m\u001b[0;34m)\u001b[0m\u001b[0;34m\u001b[0m\u001b[0;34m\u001b[0m\u001b[0m\n\u001b[0;32m---> 23\u001b[0;31m \u001b[0mc\u001b[0m\u001b[0;34m[\u001b[0m\u001b[0;36m0\u001b[0m\u001b[0;34m]\u001b[0m \u001b[0;34m=\u001b[0m \u001b[0;34m(\u001b[0m\u001b[0;34m\"1\"\u001b[0m\u001b[0;34m)\u001b[0m\u001b[0;34m\u001b[0m\u001b[0;34m\u001b[0m\u001b[0m\n\u001b[0m\u001b[1;32m     24\u001b[0m \u001b[0mprint\u001b[0m\u001b[0;34m(\u001b[0m\u001b[0mtype\u001b[0m\u001b[0;34m(\u001b[0m\u001b[0mc\u001b[0m\u001b[0;34m)\u001b[0m\u001b[0;34m)\u001b[0m\u001b[0;34m\u001b[0m\u001b[0;34m\u001b[0m\u001b[0m\n",
            "\u001b[0;31mTypeError\u001b[0m: 'tuple' object does not support item assignment"
          ]
        }
      ]
    },
    {
      "cell_type": "code",
      "execution_count": 1,
      "metadata": {
        "colab": {
          "base_uri": "https://localhost:8080/"
        },
        "id": "i6o2lf4647wv",
        "outputId": "dcbd12fb-34fb-4dff-c989-ffab5fbdd9a6"
      },
      "outputs": [
        {
          "output_type": "stream",
          "name": "stdout",
          "text": [
            "hello\n"
          ]
        }
      ],
      "source": [
        "print(\"hello\")\n"
      ]
    }
  ]
}